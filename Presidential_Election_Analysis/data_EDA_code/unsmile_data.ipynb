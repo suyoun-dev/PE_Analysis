{
 "cells": [
  {
   "cell_type": "markdown",
   "metadata": {},
   "source": [
    "### 스마일게이트 UnsmileData Pretrained model 사용해보기"
   ]
  },
  {
   "cell_type": "markdown",
   "metadata": {},
   "source": [
    "참고자료: https://github.com/smilegate-ai/korean_unsmile_dataset"
   ]
  },
  {
   "cell_type": "code",
   "execution_count": 2,
   "metadata": {},
   "outputs": [
    {
     "name": "stderr",
     "output_type": "stream",
     "text": [
      "Using custom data configuration smilegate-ai--kor_unsmile-1dba960877497f9f\n",
      "Reusing dataset parquet (C:\\Users\\Erin\\.cache\\huggingface\\datasets\\parquet\\smilegate-ai--kor_unsmile-1dba960877497f9f\\0.0.0\\0b6d5799bb726b24ad7fc7be720c170d8e497f575d02d47537de9a5bac074901)\n",
      "100%|██████████| 2/2 [00:00<00:00, 186.45it/s]\n"
     ]
    }
   ],
   "source": [
    "from datasets import load_dataset\n",
    "datasets = load_dataset('smilegate-ai/kor_unsmile')"
   ]
  },
  {
   "cell_type": "code",
   "execution_count": 3,
   "metadata": {},
   "outputs": [
    {
     "name": "stdout",
     "output_type": "stream",
     "text": [
      "DatasetDict({\n",
      "    train: Dataset({\n",
      "        features: ['문장', '여성/가족', '남성', '성소수자', '인종/국적', '연령', '지역', '종교', '기타 혐오', '악플/욕설', 'clean', '개인지칭', 'labels'],\n",
      "        num_rows: 15005\n",
      "    })\n",
      "    valid: Dataset({\n",
      "        features: ['문장', '여성/가족', '남성', '성소수자', '인종/국적', '연령', '지역', '종교', '기타 혐오', '악플/욕설', 'clean', '개인지칭', 'labels'],\n",
      "        num_rows: 3737\n",
      "    })\n",
      "})\n"
     ]
    }
   ],
   "source": [
    "print(datasets)"
   ]
  },
  {
   "cell_type": "markdown",
   "metadata": {},
   "source": [
    "실제 훈련된 모델은 '개인지칭'과 'label'은 빠져있음.\n",
    "'개인지칭'의 경우 추가 정보(개인을 지칠할 경우 모욕적일 수도 있어서...?)"
   ]
  },
  {
   "cell_type": "code",
   "execution_count": 4,
   "metadata": {},
   "outputs": [],
   "source": [
    "from transformers import TextClassificationPipeline, BertForSequenceClassification, AutoTokenizer\n",
    "model_name = 'smilegate-ai/kor_unsmile'\n",
    "model = BertForSequenceClassification.from_pretrained(model_name)\n",
    "tokenizer = AutoTokenizer.from_pretrained(model_name)\n",
    "pipe = TextClassificationPipeline(\n",
    "        model = model,\n",
    "        tokenizer = tokenizer,\n",
    "        device = 0,   # cpu: -1, gpu: gpu number\n",
    "        return_all_scores = True,\n",
    "        function_to_apply = 'sigmoid'\n",
    "    )\n"
   ]
  },
  {
   "cell_type": "code",
   "execution_count": 28,
   "metadata": {},
   "outputs": [
    {
     "name": "stdout",
     "output_type": "stream",
     "text": [
      "{'label': '여성/가족', 'score': 0.388251394033432}\n",
      "{'label': '남성', 'score': 0.1427825689315796}\n",
      "{'label': '성소수자', 'score': 0.010228877887129784}\n",
      "{'label': '인종/국적', 'score': 0.01514759287238121}\n",
      "{'label': '연령', 'score': 0.008011103607714176}\n",
      "{'label': '지역', 'score': 0.009965253062546253}\n",
      "{'label': '종교', 'score': 0.00785824190825224}\n",
      "{'label': '기타 혐오', 'score': 0.009737115353345871}\n",
      "{'label': '악플/욕설', 'score': 0.1703701913356781}\n",
      "{'label': 'clean', 'score': 0.20860446989536285}\n"
     ]
    }
   ],
   "source": [
    "# 예시 문장\n",
    "for result in pipe(\"남자는 집가서 애나 봐라\")[0]:\n",
    "    print(result)"
   ]
  },
  {
   "cell_type": "markdown",
   "metadata": {},
   "source": [
    "갖고 있는 데이터로 테스트"
   ]
  },
  {
   "cell_type": "code",
   "execution_count": 25,
   "metadata": {},
   "outputs": [],
   "source": [
    "import numpy as np\n",
    "import pandas as pd"
   ]
  },
  {
   "cell_type": "code",
   "execution_count": 26,
   "metadata": {},
   "outputs": [],
   "source": [
    "df = pd.read_csv('./소신투표/소신투표_result.csv', encoding='utf-8')"
   ]
  },
  {
   "cell_type": "code",
   "execution_count": 27,
   "metadata": {},
   "outputs": [],
   "source": [
    "result = []\n",
    "for t in df['text'].astype(str):\n",
    "    result.extend(pipe(t))"
   ]
  },
  {
   "cell_type": "code",
   "execution_count": 29,
   "metadata": {},
   "outputs": [
    {
     "data": {
      "text/plain": [
       "[{'label': '여성/가족', 'score': 0.01607031561434269},\n",
       " {'label': '남성', 'score': 0.003696973202750087},\n",
       " {'label': '성소수자', 'score': 0.006438276264816523},\n",
       " {'label': '인종/국적', 'score': 0.020544659346342087},\n",
       " {'label': '연령', 'score': 0.007808662950992584},\n",
       " {'label': '지역', 'score': 0.030384093523025513},\n",
       " {'label': '종교', 'score': 0.010064619593322277},\n",
       " {'label': '기타 혐오', 'score': 0.03580975532531738},\n",
       " {'label': '악플/욕설', 'score': 0.21212667226791382},\n",
       " {'label': 'clean', 'score': 0.3380521237850189}]"
      ]
     },
     "execution_count": 29,
     "metadata": {},
     "output_type": "execute_result"
    }
   ],
   "source": [
    "# 결과 예시\n",
    "result[0]"
   ]
  },
  {
   "cell_type": "code",
   "execution_count": 31,
   "metadata": {},
   "outputs": [],
   "source": [
    "score = [[item['score'] for item in i] for i in result]"
   ]
  },
  {
   "cell_type": "code",
   "execution_count": 32,
   "metadata": {},
   "outputs": [],
   "source": [
    "score = np.round(score,2)"
   ]
  },
  {
   "cell_type": "code",
   "execution_count": 34,
   "metadata": {},
   "outputs": [],
   "source": [
    "label =  ['여성/가족', '남성', '성소수자', '인종/국적', '연령', '지역', '종교', '기타 혐오', '악플/욕설', 'clean']\n",
    "new_df = pd.DataFrame(score, columns=label)"
   ]
  },
  {
   "cell_type": "code",
   "execution_count": 36,
   "metadata": {},
   "outputs": [],
   "source": [
    "# df에 text열 추가\n",
    "new_df.insert(0, 'text', df['text']) # 앞에 숫자가 순서"
   ]
  },
  {
   "cell_type": "code",
   "execution_count": 37,
   "metadata": {},
   "outputs": [
    {
     "data": {
      "text/html": [
       "<div>\n",
       "<style scoped>\n",
       "    .dataframe tbody tr th:only-of-type {\n",
       "        vertical-align: middle;\n",
       "    }\n",
       "\n",
       "    .dataframe tbody tr th {\n",
       "        vertical-align: top;\n",
       "    }\n",
       "\n",
       "    .dataframe thead th {\n",
       "        text-align: right;\n",
       "    }\n",
       "</style>\n",
       "<table border=\"1\" class=\"dataframe\">\n",
       "  <thead>\n",
       "    <tr style=\"text-align: right;\">\n",
       "      <th></th>\n",
       "      <th>text</th>\n",
       "      <th>여성/가족</th>\n",
       "      <th>남성</th>\n",
       "      <th>성소수자</th>\n",
       "      <th>인종/국적</th>\n",
       "      <th>연령</th>\n",
       "      <th>지역</th>\n",
       "      <th>종교</th>\n",
       "      <th>기타 혐오</th>\n",
       "      <th>악플/욕설</th>\n",
       "      <th>clean</th>\n",
       "    </tr>\n",
       "  </thead>\n",
       "  <tbody>\n",
       "    <tr>\n",
       "      <th>0</th>\n",
       "      <td>문프님 말도 안 듣는 문파 오소리들이 이낙연대표님 말인들 듣겠냐 아닌건 아닌거지 소...</td>\n",
       "      <td>0.02</td>\n",
       "      <td>0.00</td>\n",
       "      <td>0.01</td>\n",
       "      <td>0.02</td>\n",
       "      <td>0.01</td>\n",
       "      <td>0.03</td>\n",
       "      <td>0.01</td>\n",
       "      <td>0.04</td>\n",
       "      <td>0.21</td>\n",
       "      <td>0.34</td>\n",
       "    </tr>\n",
       "    <tr>\n",
       "      <th>1</th>\n",
       "      <td>내가 솔직히 대선보고 나서 그냥 심 뽑는 소신 투표할까 ㅇㅈㄹ했었는데 윤은 나의 망...</td>\n",
       "      <td>0.03</td>\n",
       "      <td>0.01</td>\n",
       "      <td>0.01</td>\n",
       "      <td>0.01</td>\n",
       "      <td>0.01</td>\n",
       "      <td>0.01</td>\n",
       "      <td>0.01</td>\n",
       "      <td>0.02</td>\n",
       "      <td>0.79</td>\n",
       "      <td>0.15</td>\n",
       "    </tr>\n",
       "    <tr>\n",
       "      <th>2</th>\n",
       "      <td>이거 뽑으나 저거 뽑으나 다 사표나 마찬가진데 왜 자꾸 무조건 양자택일해야한다고 하...</td>\n",
       "      <td>0.02</td>\n",
       "      <td>0.01</td>\n",
       "      <td>0.01</td>\n",
       "      <td>0.01</td>\n",
       "      <td>0.01</td>\n",
       "      <td>0.01</td>\n",
       "      <td>0.01</td>\n",
       "      <td>0.01</td>\n",
       "      <td>0.25</td>\n",
       "      <td>0.71</td>\n",
       "    </tr>\n",
       "    <tr>\n",
       "      <th>3</th>\n",
       "      <td>저새끼들 오냐오냐 하니까 매일같이 실은 내가 더 나쁜새낀데ㅋ 이 대결하고 자빠져있는...</td>\n",
       "      <td>0.02</td>\n",
       "      <td>0.02</td>\n",
       "      <td>0.01</td>\n",
       "      <td>0.02</td>\n",
       "      <td>0.01</td>\n",
       "      <td>0.01</td>\n",
       "      <td>0.01</td>\n",
       "      <td>0.03</td>\n",
       "      <td>0.89</td>\n",
       "      <td>0.08</td>\n",
       "    </tr>\n",
       "    <tr>\n",
       "      <th>4</th>\n",
       "      <td>역설적으로 소신투표 해야 15년 뒤 이준석 김남국의 대선을 안본다고 생각한다</td>\n",
       "      <td>0.02</td>\n",
       "      <td>0.01</td>\n",
       "      <td>0.02</td>\n",
       "      <td>0.02</td>\n",
       "      <td>0.01</td>\n",
       "      <td>0.02</td>\n",
       "      <td>0.01</td>\n",
       "      <td>0.01</td>\n",
       "      <td>0.06</td>\n",
       "      <td>0.91</td>\n",
       "    </tr>\n",
       "  </tbody>\n",
       "</table>\n",
       "</div>"
      ],
      "text/plain": [
       "                                                text  여성/가족    남성  성소수자  \\\n",
       "0  문프님 말도 안 듣는 문파 오소리들이 이낙연대표님 말인들 듣겠냐 아닌건 아닌거지 소...   0.02  0.00  0.01   \n",
       "1  내가 솔직히 대선보고 나서 그냥 심 뽑는 소신 투표할까 ㅇㅈㄹ했었는데 윤은 나의 망...   0.03  0.01  0.01   \n",
       "2  이거 뽑으나 저거 뽑으나 다 사표나 마찬가진데 왜 자꾸 무조건 양자택일해야한다고 하...   0.02  0.01  0.01   \n",
       "3  저새끼들 오냐오냐 하니까 매일같이 실은 내가 더 나쁜새낀데ㅋ 이 대결하고 자빠져있는...   0.02  0.02  0.01   \n",
       "4         역설적으로 소신투표 해야 15년 뒤 이준석 김남국의 대선을 안본다고 생각한다   0.02  0.01  0.02   \n",
       "\n",
       "   인종/국적    연령    지역    종교  기타 혐오  악플/욕설  clean  \n",
       "0   0.02  0.01  0.03  0.01   0.04   0.21   0.34  \n",
       "1   0.01  0.01  0.01  0.01   0.02   0.79   0.15  \n",
       "2   0.01  0.01  0.01  0.01   0.01   0.25   0.71  \n",
       "3   0.02  0.01  0.01  0.01   0.03   0.89   0.08  \n",
       "4   0.02  0.01  0.02  0.01   0.01   0.06   0.91  "
      ]
     },
     "execution_count": 37,
     "metadata": {},
     "output_type": "execute_result"
    }
   ],
   "source": [
    "new_df.head()"
   ]
  },
  {
   "cell_type": "code",
   "execution_count": 38,
   "metadata": {},
   "outputs": [],
   "source": [
    "result.to_csv(\"./소신투표/소신투표_unsmile2.csv\", encoding='utf-8-sig',sep=',', index=False)"
   ]
  },
  {
   "cell_type": "code",
   "execution_count": null,
   "metadata": {},
   "outputs": [],
   "source": []
  }
 ],
 "metadata": {
  "interpreter": {
   "hash": "e8b5758fe24bc4d283a119dda63ca2be1e896de880b97130f8021bd71c5c724b"
  },
  "kernelspec": {
   "display_name": "Python 3.7.11 ('torch1')",
   "language": "python",
   "name": "python3"
  },
  "language_info": {
   "codemirror_mode": {
    "name": "ipython",
    "version": 3
   },
   "file_extension": ".py",
   "mimetype": "text/x-python",
   "name": "python",
   "nbconvert_exporter": "python",
   "pygments_lexer": "ipython3",
   "version": "3.7.11"
  },
  "orig_nbformat": 4
 },
 "nbformat": 4,
 "nbformat_minor": 2
}