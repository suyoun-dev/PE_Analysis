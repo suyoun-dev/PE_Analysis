{
 "cells": [
  {
   "cell_type": "markdown",
   "metadata": {},
   "source": [
    "# 02 정제(Cleaning) and 정규화 Normalization\n",
    "\n",
    "* 정제(cleaning) : 코퍼스에서 노이즈 데이터 제거\n",
    "* 정규화(Normalization) : 표현 방법이 다른 단어들을 통합 시켜 같은 단어로 만듬"
   ]
  },
  {
   "cell_type": "markdown",
   "metadata": {},
   "source": [
    "### 1. 규칙에 기반한 표기가 다른 단어들의 통합\n",
    "ex) USA = US / uh-huh = uhhuh\n",
    "\n",
    "-> 어간 추출 Stemming, 표제어 추출 Lemmatization으로 통합\n",
    "\n",
    "### 2. 대,소문자 통합 \n",
    "Automobile = automobile은 동일하기 때문에 첫번째 글자를 소문자화 함으로써 통합 가능.\n",
    "\n",
    "하지만 고유명사(브랜드 이름, 나라이름, 사람이름 등..)는 대문자로 유지되어야함. 그 자체가 하나의 POS로 구분됨..\n",
    "\n",
    "변수가 많아지면 이를 일일이 규칙을 정하기 어렵기 때문에 결국에는 예외를 고려하지않고 모든 코퍼스를 소문자로 바꾸는 것이 실용적인 해결책이 될 수도 있음.\n",
    "\n",
    "### 3. 불필요한 단어의 제거\n",
    "    1) 등장 빈도가 적은 단어\n",
    "    \n",
    "    ex)  스팸 메일의 랜덤 번호, 이메일, 홈페이지?\n",
    "\n",
    "    2) 길이가 짧은 단어\n",
    "\n",
    "    ex) 관사, 전치사 보통 1~2길이의 단어, 길이가 3인 경우는 명사가 있을 수도 있기 때문에 고려..\n",
    "    "
   ]
  },
  {
   "cell_type": "code",
   "execution_count": 1,
   "metadata": {},
   "outputs": [
    {
     "name": "stdout",
     "output_type": "stream",
     "text": [
      " was wondering anyone out there could enlighten this car.\n"
     ]
    }
   ],
   "source": [
    "import re\n",
    "text = \"I was wondering if anyone out there could enlighten me on this car.\"\n",
    "\n",
    "# 길이가 1~2인 단어들을 정규 표현식을 이용하여 삭제\n",
    "shortword = re.compile(r'\\W*\\b\\w{1,2}\\b')\n",
    "print(shortword.sub('', text))"
   ]
  },
  {
   "cell_type": "markdown",
   "metadata": {},
   "source": [
    "### 4. 정규표현식 \n",
    "\n",
    "정규표현식을 통해 규칙을 정해서 데이터를 정제할 수 있음."
   ]
  },
  {
   "cell_type": "markdown",
   "metadata": {},
   "source": []
  }
 ],
 "metadata": {
  "interpreter": {
   "hash": "8b18d159b453e8648a897f59b4dbc8f778ef99442df851711f546ebc0ae49bbd"
  },
  "kernelspec": {
   "display_name": "Python 3.9.7 ('base')",
   "language": "python",
   "name": "python3"
  },
  "language_info": {
   "codemirror_mode": {
    "name": "ipython",
    "version": 3
   },
   "file_extension": ".py",
   "mimetype": "text/x-python",
   "name": "python",
   "nbconvert_exporter": "python",
   "pygments_lexer": "ipython3",
   "version": "3.9.7"
  },
  "orig_nbformat": 4
 },
 "nbformat": 4,
 "nbformat_minor": 2
}
