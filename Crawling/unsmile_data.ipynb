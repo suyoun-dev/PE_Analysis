{
 "cells": [
  {
   "cell_type": "markdown",
   "metadata": {},
   "source": [
    "### 스마일게이트 UnsmileData Pretrained model 사용해보기"
   ]
  },
  {
   "cell_type": "markdown",
   "metadata": {},
   "source": [
    "참고자료: https://github.com/smilegate-ai/korean_unsmile_dataset"
   ]
  },
  {
   "cell_type": "code",
   "execution_count": 3,
   "metadata": {},
   "outputs": [
    {
     "name": "stderr",
     "output_type": "stream",
     "text": [
      "Downloading: 100%|██████████| 1.58k/1.58k [00:00<00:00, 790kB/s]\n",
      "Using custom data configuration smilegate-ai--kor_unsmile-1dba960877497f9f\n"
     ]
    },
    {
     "name": "stdout",
     "output_type": "stream",
     "text": [
      "Downloading and preparing dataset None/None (download: 1.39 MiB, generated: 4.93 MiB, post-processed: Unknown size, total: 6.32 MiB) to C:\\Users\\Erin\\.cache\\huggingface\\datasets\\parquet\\smilegate-ai--kor_unsmile-1dba960877497f9f\\0.0.0\\0b6d5799bb726b24ad7fc7be720c170d8e497f575d02d47537de9a5bac074901...\n"
     ]
    },
    {
     "name": "stderr",
     "output_type": "stream",
     "text": [
      "Downloading data: 100%|██████████| 1.16M/1.16M [00:00<00:00, 9.01MB/s]\n",
      "Downloading data: 100%|██████████| 290k/290k [00:00<00:00, 10.7MB/s]]\n",
      "Downloading data files: 100%|██████████| 2/2 [00:04<00:00,  2.21s/it]\n",
      "Extracting data files: 100%|██████████| 2/2 [00:00<00:00, 499.71it/s]\n"
     ]
    },
    {
     "name": "stdout",
     "output_type": "stream",
     "text": [
      "Dataset parquet downloaded and prepared to C:\\Users\\Erin\\.cache\\huggingface\\datasets\\parquet\\smilegate-ai--kor_unsmile-1dba960877497f9f\\0.0.0\\0b6d5799bb726b24ad7fc7be720c170d8e497f575d02d47537de9a5bac074901. Subsequent calls will reuse this data.\n"
     ]
    },
    {
     "name": "stderr",
     "output_type": "stream",
     "text": [
      "100%|██████████| 2/2 [00:00<00:00, 111.10it/s]"
     ]
    },
    {
     "name": "stdout",
     "output_type": "stream",
     "text": [
      "DatasetDict({\n",
      "    train: Dataset({\n",
      "        features: ['문장', '여성/가족', '남성', '성소수자', '인종/국적', '연령', '지역', '종교', '기타 혐오', '악플/욕설', 'clean', '개인지칭', 'labels'],\n",
      "        num_rows: 15005\n",
      "    })\n",
      "    valid: Dataset({\n",
      "        features: ['문장', '여성/가족', '남성', '성소수자', '인종/국적', '연령', '지역', '종교', '기타 혐오', '악플/욕설', 'clean', '개인지칭', 'labels'],\n",
      "        num_rows: 3737\n",
      "    })\n",
      "})\n"
     ]
    },
    {
     "name": "stderr",
     "output_type": "stream",
     "text": [
      "\n"
     ]
    }
   ],
   "source": [
    "from datasets import load_dataset\n",
    "datasets = load_dataset('smilegate-ai/kor_unsmile')"
   ]
  },
  {
   "cell_type": "code",
   "execution_count": 4,
   "metadata": {},
   "outputs": [
    {
     "name": "stdout",
     "output_type": "stream",
     "text": [
      "DatasetDict({\n",
      "    train: Dataset({\n",
      "        features: ['문장', '여성/가족', '남성', '성소수자', '인종/국적', '연령', '지역', '종교', '기타 혐오', '악플/욕설', 'clean', '개인지칭', 'labels'],\n",
      "        num_rows: 15005\n",
      "    })\n",
      "    valid: Dataset({\n",
      "        features: ['문장', '여성/가족', '남성', '성소수자', '인종/국적', '연령', '지역', '종교', '기타 혐오', '악플/욕설', 'clean', '개인지칭', 'labels'],\n",
      "        num_rows: 3737\n",
      "    })\n",
      "})\n"
     ]
    }
   ],
   "source": [
    "print(datasets)"
   ]
  },
  {
   "cell_type": "markdown",
   "metadata": {},
   "source": [
    "실제 훈련된 모델은 '개인지칭'과 'label'은 빠져있음.\n",
    "'개인지칭'의 경우 추가 정보(개인을 지칠할 경우 모욕적일 수도 있어서..?)"
   ]
  },
  {
   "cell_type": "code",
   "execution_count": 5,
   "metadata": {},
   "outputs": [
    {
     "name": "stderr",
     "output_type": "stream",
     "text": [
      "Downloading: 100%|██████████| 1.52k/1.52k [00:00<00:00, 1.50MB/s]\n",
      "Downloading: 100%|██████████| 436M/436M [00:39<00:00, 11.2MB/s] \n",
      "Downloading: 100%|██████████| 370/370 [00:00<00:00, 185kB/s]\n",
      "Downloading: 100%|██████████| 250k/250k [00:00<00:00, 276kB/s] \n",
      "Downloading: 100%|██████████| 721k/721k [00:01<00:00, 493kB/s]  \n",
      "Downloading: 100%|██████████| 112/112 [00:00<00:00, 37.3kB/s]\n"
     ]
    },
    {
     "name": "stdout",
     "output_type": "stream",
     "text": [
      "{'label': '여성/가족', 'score': 0.8253053426742554}\n",
      "{'label': '남성', 'score': 0.03972514718770981}\n",
      "{'label': '성소수자', 'score': 0.01214433740824461}\n",
      "{'label': '인종/국적', 'score': 0.023181889206171036}\n",
      "{'label': '연령', 'score': 0.010315303690731525}\n",
      "{'label': '지역', 'score': 0.01845489628612995}\n",
      "{'label': '종교', 'score': 0.011270025745034218}\n",
      "{'label': '기타 혐오', 'score': 0.020734043791890144}\n",
      "{'label': '악플/욕설', 'score': 0.057331427931785583}\n",
      "{'label': 'clean', 'score': 0.1401052176952362}\n"
     ]
    }
   ],
   "source": [
    "from transformers import TextClassificationPipeline, BertForSequenceClassification, AutoTokenizer\n",
    "model_name = 'smilegate-ai/kor_unsmile'\n",
    "model = BertForSequenceClassification.from_pretrained(model_name)\n",
    "tokenizer = AutoTokenizer.from_pretrained(model_name)\n",
    "pipe = TextClassificationPipeline(\n",
    "        model = model,\n",
    "        tokenizer = tokenizer,\n",
    "        device = 0,   # cpu: -1, gpu: gpu number\n",
    "        return_all_scores = True,\n",
    "        function_to_apply = 'sigmoid'\n",
    "    )\n"
   ]
  },
  {
   "cell_type": "code",
   "execution_count": 188,
   "metadata": {},
   "outputs": [
    {
     "name": "stdout",
     "output_type": "stream",
     "text": [
      "{'label': '여성/가족', 'score': 0.015001693740487099}\n",
      "{'label': '남성', 'score': 0.00991620309650898}\n",
      "{'label': '성소수자', 'score': 0.009861568920314312}\n",
      "{'label': '인종/국적', 'score': 0.01520923338830471}\n",
      "{'label': '연령', 'score': 0.008798819966614246}\n",
      "{'label': '지역', 'score': 0.018083980306982994}\n",
      "{'label': '종교', 'score': 0.012537132017314434}\n",
      "{'label': '기타 혐오', 'score': 0.024936573579907417}\n",
      "{'label': '악플/욕설', 'score': 0.8759555816650391}\n",
      "{'label': 'clean', 'score': 0.09106995910406113}\n"
     ]
    }
   ],
   "source": [
    "# 예시 문장\n",
    "for result in pipe(\"ㅁㅊ 여러분 제발 뭐로든 신고하고 ㅇㅅㄹ 당선되면 나 이민가\")[0]:\n",
    "    print(result)"
   ]
  },
  {
   "cell_type": "markdown",
   "metadata": {},
   "source": [
    "갖고 있는 데이터로 테스트"
   ]
  },
  {
   "cell_type": "code",
   "execution_count": 20,
   "metadata": {},
   "outputs": [],
   "source": [
    "import numpy as np\n",
    "import pandas as pd"
   ]
  },
  {
   "cell_type": "code",
   "execution_count": 177,
   "metadata": {},
   "outputs": [],
   "source": [
    "df3 = pd.read_csv('./소신투표/소신투표_result.csv', encoding='utf-8')"
   ]
  },
  {
   "cell_type": "code",
   "execution_count": 178,
   "metadata": {},
   "outputs": [],
   "source": [
    "result1 = []\n",
    "for t in df3['text'].astype(str):\n",
    "    result1.extend(pipe(t))"
   ]
  },
  {
   "cell_type": "code",
   "execution_count": 189,
   "metadata": {},
   "outputs": [
    {
     "data": {
      "text/plain": [
       "[{'label': '여성/가족', 'score': 0.01607031561434269},\n",
       " {'label': '남성', 'score': 0.003696973202750087},\n",
       " {'label': '성소수자', 'score': 0.006438276264816523},\n",
       " {'label': '인종/국적', 'score': 0.020544659346342087},\n",
       " {'label': '연령', 'score': 0.007808662950992584},\n",
       " {'label': '지역', 'score': 0.030384093523025513},\n",
       " {'label': '종교', 'score': 0.010064619593322277},\n",
       " {'label': '기타 혐오', 'score': 0.03580975532531738},\n",
       " {'label': '악플/욕설', 'score': 0.21212667226791382},\n",
       " {'label': 'clean', 'score': 0.3380521237850189}]"
      ]
     },
     "execution_count": 189,
     "metadata": {},
     "output_type": "execute_result"
    }
   ],
   "source": [
    "# 결과 예시\n",
    "result1[0]"
   ]
  },
  {
   "cell_type": "code",
   "execution_count": 160,
   "metadata": {},
   "outputs": [],
   "source": [
    "label =  ['여성/가족', '남성', '성소수자', '인종/국적', '연령', '지역', '종교', '기타 혐오', '악플/욕설', 'clean']"
   ]
  },
  {
   "cell_type": "code",
   "execution_count": 180,
   "metadata": {},
   "outputs": [],
   "source": [
    "score = [[item['score'] for item in i] for i in result1]"
   ]
  },
  {
   "cell_type": "code",
   "execution_count": 181,
   "metadata": {},
   "outputs": [],
   "source": [
    "score = np.round(score,2)"
   ]
  },
  {
   "cell_type": "code",
   "execution_count": 186,
   "metadata": {},
   "outputs": [],
   "source": [
    "df3.to_csv(\"./소신투표/소신투표_unsmile.csv\", encoding='utf-8-sig',sep=',', index=False)"
   ]
  }
 ],
 "metadata": {
  "interpreter": {
   "hash": "e8b5758fe24bc4d283a119dda63ca2be1e896de880b97130f8021bd71c5c724b"
  },
  "kernelspec": {
   "display_name": "Python 3.7.11 ('torch1')",
   "language": "python",
   "name": "python3"
  },
  "language_info": {
   "codemirror_mode": {
    "name": "ipython",
    "version": 3
   },
   "file_extension": ".py",
   "mimetype": "text/x-python",
   "name": "python",
   "nbconvert_exporter": "python",
   "pygments_lexer": "ipython3",
   "version": "3.7.11"
  },
  "orig_nbformat": 4
 },
 "nbformat": 4,
 "nbformat_minor": 2
}
